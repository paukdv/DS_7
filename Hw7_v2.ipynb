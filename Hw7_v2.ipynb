{
  "nbformat": 4,
  "nbformat_minor": 0,
  "metadata": {
    "colab": {
      "provenance": []
    },
    "kernelspec": {
      "name": "python3",
      "display_name": "Python 3"
    },
    "language_info": {
      "name": "python"
    }
  },
  "cells": [
    {
      "cell_type": "code",
      "execution_count": 2,
      "metadata": {
        "colab": {
          "base_uri": "https://localhost:8080/"
        },
        "id": "dsjDuzyEBtxQ",
        "outputId": "a1e9bea9-e021-4372-9b1b-d796675c7706"
      },
      "outputs": [
        {
          "output_type": "stream",
          "name": "stdout",
          "text": [
            "Collecting scikit-surprise\n",
            "  Downloading scikit-surprise-1.1.3.tar.gz (771 kB)\n",
            "\u001b[?25l     \u001b[90m━━━━━━━━━━━━━━━━━━━━━━━━━━━━━━━━━━━━━━━━\u001b[0m \u001b[32m0.0/772.0 kB\u001b[0m \u001b[31m?\u001b[0m eta \u001b[36m-:--:--\u001b[0m\r\u001b[2K     \u001b[91m━━━━━━\u001b[0m\u001b[90m╺\u001b[0m\u001b[90m━━━━━━━━━━━━━━━━━━━━━━━━━━━━━━━━━\u001b[0m \u001b[32m122.9/772.0 kB\u001b[0m \u001b[31m3.6 MB/s\u001b[0m eta \u001b[36m0:00:01\u001b[0m\r\u001b[2K     \u001b[91m━━━━━━━━━━━━━━━━━━━━━━━━━━━━\u001b[0m\u001b[90m╺\u001b[0m\u001b[90m━━━━━━━━━━━\u001b[0m \u001b[32m542.7/772.0 kB\u001b[0m \u001b[31m7.9 MB/s\u001b[0m eta \u001b[36m0:00:01\u001b[0m\r\u001b[2K     \u001b[90m━━━━━━━━━━━━━━━━━━━━━━━━━━━━━━━━━━━━━━━━\u001b[0m \u001b[32m772.0/772.0 kB\u001b[0m \u001b[31m7.9 MB/s\u001b[0m eta \u001b[36m0:00:00\u001b[0m\n",
            "\u001b[?25h  Preparing metadata (setup.py) ... \u001b[?25l\u001b[?25hdone\n",
            "Requirement already satisfied: joblib>=1.0.0 in /usr/local/lib/python3.10/dist-packages (from scikit-surprise) (1.3.2)\n",
            "Requirement already satisfied: numpy>=1.17.3 in /usr/local/lib/python3.10/dist-packages (from scikit-surprise) (1.23.5)\n",
            "Requirement already satisfied: scipy>=1.3.2 in /usr/local/lib/python3.10/dist-packages (from scikit-surprise) (1.11.4)\n",
            "Building wheels for collected packages: scikit-surprise\n",
            "  Building wheel for scikit-surprise (setup.py) ... \u001b[?25l\u001b[?25hdone\n",
            "  Created wheel for scikit-surprise: filename=scikit_surprise-1.1.3-cp310-cp310-linux_x86_64.whl size=3162678 sha256=e72099b0946ee0cb6101cf2c72072c1977bd75c0d8083dcb8500958f24b9e7fd\n",
            "  Stored in directory: /root/.cache/pip/wheels/a5/ca/a8/4e28def53797fdc4363ca4af740db15a9c2f1595ebc51fb445\n",
            "Successfully built scikit-surprise\n",
            "Installing collected packages: scikit-surprise\n",
            "Successfully installed scikit-surprise-1.1.3\n"
          ]
        }
      ],
      "source": [
        "!pip install scikit-surprise"
      ]
    },
    {
      "cell_type": "code",
      "source": [
        "from surprise import Dataset, SVD, SVDpp, NMF, accuracy\n",
        "from surprise.model_selection import train_test_split, cross_validate, GridSearchCV"
      ],
      "metadata": {
        "id": "npqgs63OB06p"
      },
      "execution_count": 3,
      "outputs": []
    },
    {
      "cell_type": "code",
      "source": [
        "# Завантаження датасету\n",
        "data = Dataset.load_builtin(\"ml-100k\")"
      ],
      "metadata": {
        "colab": {
          "base_uri": "https://localhost:8080/"
        },
        "id": "bVo3OMzMB4Gh",
        "outputId": "6769d6be-238c-4664-e61f-25b0b402a772"
      },
      "execution_count": 5,
      "outputs": [
        {
          "output_type": "stream",
          "name": "stdout",
          "text": [
            "Dataset ml-100k could not be found. Do you want to download it? [Y/n] y\n",
            "Trying to download dataset from https://files.grouplens.org/datasets/movielens/ml-100k.zip...\n",
            "Done! Dataset ml-100k has been saved to /root/.surprise_data/ml-100k\n"
          ]
        }
      ]
    },
    {
      "cell_type": "markdown",
      "source": [
        "**Пошук Найкращих Параметрів для SVD**"
      ],
      "metadata": {
        "id": "oNo_UmS6EbTX"
      }
    },
    {
      "cell_type": "code",
      "source": [
        "# Пошук найкращих параметрів для SVD\n",
        "param_grid = {\n",
        "    'n_factors': [50, 100],\n",
        "    'n_epochs': [20, 30],\n",
        "    'lr_all': [0.002, 0.005],\n",
        "    'reg_all': [0.02, 0.1]\n",
        "}\n",
        "gs = GridSearchCV(SVD, param_grid, measures=['rmse'], cv=3)\n",
        "gs.fit(data)"
      ],
      "metadata": {
        "id": "RBDjuigIB6ga"
      },
      "execution_count": 6,
      "outputs": []
    },
    {
      "cell_type": "code",
      "source": [
        "# Виведення кращих параметрів\n",
        "best_params = gs.best_params['rmse']\n",
        "print(f\"Найкращі параметри для SVD: {best_params}\")"
      ],
      "metadata": {
        "colab": {
          "base_uri": "https://localhost:8080/"
        },
        "id": "6UaQ85NoD-5X",
        "outputId": "38643376-7ad3-43c8-c5f5-0ac4bffd9014"
      },
      "execution_count": 7,
      "outputs": [
        {
          "output_type": "stream",
          "name": "stdout",
          "text": [
            "Найкращі параметри для SVD: {'n_factors': 100, 'n_epochs': 30, 'lr_all': 0.005, 'reg_all': 0.1}\n"
          ]
        }
      ]
    },
    {
      "cell_type": "markdown",
      "source": [
        "**Порівняння SVD, SVD++ та NMF**"
      ],
      "metadata": {
        "id": "xOdLMPz2EfM_"
      }
    },
    {
      "cell_type": "code",
      "source": [
        "# Створення моделей з кращими параметрами\n",
        "algo_svd = SVD(**best_params)\n",
        "algo_svdpp = SVDpp()\n",
        "algo_nmf = NMF()"
      ],
      "metadata": {
        "id": "NqdTR7uNB7gP"
      },
      "execution_count": 8,
      "outputs": []
    },
    {
      "cell_type": "code",
      "source": [
        "# Порівняння SVD з SVD++ та NMF\n",
        "for model in [algo_svd, algo_svdpp, algo_nmf]:\n",
        "    print(f\"Evaluating {model.__class__.__name__}...\")\n",
        "    results = cross_validate(model, data, measures=['RMSE'], cv=3, verbose=True)\n",
        "    mean_rmse = sum(results['test_rmse']) / len(results['test_rmse'])\n",
        "    print(f\"Середнє RMSE для {model.__class__.__name__}: {mean_rmse}\\n\")"
      ],
      "metadata": {
        "colab": {
          "base_uri": "https://localhost:8080/"
        },
        "id": "s1hKUOgOCA_S",
        "outputId": "d39f04cf-cde3-484b-d8db-f2d1815445ae"
      },
      "execution_count": 9,
      "outputs": [
        {
          "output_type": "stream",
          "name": "stdout",
          "text": [
            "Evaluating SVD...\n",
            "Evaluating RMSE of algorithm SVD on 3 split(s).\n",
            "\n",
            "                  Fold 1  Fold 2  Fold 3  Mean    Std     \n",
            "RMSE (testset)    0.9290  0.9359  0.9373  0.9341  0.0036  \n",
            "Fit time          2.17    2.18    2.18    2.18    0.00    \n",
            "Test time         0.40    0.41    0.53    0.45    0.06    \n",
            "Середнє RMSE для SVD: 0.9340623647013157\n",
            "\n",
            "Evaluating SVDpp...\n",
            "Evaluating RMSE of algorithm SVDpp on 3 split(s).\n",
            "\n",
            "                  Fold 1  Fold 2  Fold 3  Mean    Std     \n",
            "RMSE (testset)    0.9200  0.9313  0.9265  0.9260  0.0047  \n",
            "Fit time          19.84   19.67   19.20   19.57   0.27    \n",
            "Test time         7.01    7.59    7.75    7.45    0.32    \n",
            "Середнє RMSE для SVDpp: 0.9259546962312938\n",
            "\n",
            "Evaluating NMF...\n",
            "Evaluating RMSE of algorithm NMF on 3 split(s).\n",
            "\n",
            "                  Fold 1  Fold 2  Fold 3  Mean    Std     \n",
            "RMSE (testset)    0.9716  0.9770  0.9755  0.9747  0.0023  \n",
            "Fit time          2.33    2.38    2.35    2.36    0.02    \n",
            "Test time         0.35    0.22    0.34    0.30    0.06    \n",
            "Середнє RMSE для NMF: 0.9746881964935818\n",
            "\n"
          ]
        }
      ]
    },
    {
      "cell_type": "markdown",
      "source": [
        "**Перевірка на Перенавчання для SVD**"
      ],
      "metadata": {
        "id": "C5mLKSQlE4k-"
      }
    },
    {
      "cell_type": "code",
      "source": [
        "# Розділення на навчальну та тестову вибірку\n",
        "trainset, testset = train_test_split(data, test_size=0.25)\n",
        "\n",
        "# Навчання моделі SVD\n",
        "algo_svd.fit(trainset)\n",
        "\n",
        "# Передбачення на навчальній та тестовій вибірках\n",
        "train_predictions = algo_svd.test(trainset.build_testset())\n",
        "test_predictions = algo_svd.test(testset)\n",
        "\n",
        "# Обчислення RMSE для обох вибірок\n",
        "train_rmse = accuracy.rmse(train_predictions, verbose=False)\n",
        "test_rmse = accuracy.rmse(test_predictions, verbose=False)\n",
        "print(f'Training RMSE: {train_rmse}, Testing RMSE: {test_rmse}')"
      ],
      "metadata": {
        "colab": {
          "base_uri": "https://localhost:8080/"
        },
        "id": "zuRyedeqCDxK",
        "outputId": "0a67006f-7938-4757-ebd4-cc41ffc44a27"
      },
      "execution_count": 10,
      "outputs": [
        {
          "output_type": "stream",
          "name": "stdout",
          "text": [
            "Training RMSE: 0.8203391703528761, Testing RMSE: 0.9345486488355252\n"
          ]
        }
      ]
    },
    {
      "cell_type": "markdown",
      "source": [
        "Висновки:\n",
        "\n",
        "Для алгоритму SVD було проведено пошук оптимальних гіперпараметрів за допомогою GridSearchCV. Цей метод дозволив визначити найкращі параметри моделі на основі метрики RMSE.\n",
        "\n",
        "Порівняння Моделей:\n",
        "\n",
        "Ми зробили порівняння моделей SVD, SVD++ та NMF. Кожна модель була оцінена за допомогою крос-валідації, і було встановлено, що:\n",
        "\n",
        "Модель SVD++ показала найкращі результати за метрикою RMSE, однак вона вимагала значно більшого часу для навчання.\n",
        "Модель SVD показала трохи гірші результати за RMSE порівняно з SVD++, але забезпечила кращий баланс між точністю та часом обчислень.\n",
        "Модель NMF показала найгірші результати за метрикою RMSE.\n",
        "\n",
        "Перевірка на Перенавчання:\n",
        "\n",
        "RMSE на Навчальній Вибірці: 0.82\n",
        "RMSE на Тестовій Вибірці: 0.93\n",
        "\n",
        "Ця різниця вказує на наявність перенавчання, хоча воно і не є значно вираженим.\n",
        "\n",
        "Отже:\n",
        "Модель SVD з використанням оптимальних гіперпараметрів показала хороший баланс між точністю передбачень і часом обчислень. Хоча SVD++ показала кращу точність, час її обчислень значно вищий. Модель NMF показала найнижчу точність за метрикою RMSE."
      ],
      "metadata": {
        "id": "aFn3JqobGv-T"
      }
    }
  ]
}